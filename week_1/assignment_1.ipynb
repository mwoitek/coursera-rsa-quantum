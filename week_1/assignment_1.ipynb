{
 "cells": [
  {
   "cell_type": "markdown",
   "id": "5d125836-90c4-47af-b345-30554442639a",
   "metadata": {},
   "source": [
    "# Week 1: Programming Assignment\n",
    "## Imports"
   ]
  },
  {
   "cell_type": "code",
   "execution_count": 1,
   "id": "33947b68-16ba-45e7-b95c-61ebc2e3e5b1",
   "metadata": {},
   "outputs": [],
   "source": [
    "import time"
   ]
  },
  {
   "cell_type": "markdown",
   "id": "57e77c08",
   "metadata": {
    "lines_to_next_cell": 2
   },
   "source": [
    "## Brute-Force with Sieving"
   ]
  },
  {
   "cell_type": "code",
   "execution_count": 2,
   "id": "4fd7e9b2",
   "metadata": {},
   "outputs": [],
   "source": [
    "# Check if n is divisible by i. Also keep a counter that checks how many times\n",
    "# we call this function.\n",
    "# Important: In your code you must use this function to check divisibility.\n",
    "def count_calls(f):\n",
    "    def inner_fun(*args, **kwargs):\n",
    "        inner_fun.num_calls += 1\n",
    "        return f(*args, **kwargs)\n",
    "\n",
    "    inner_fun.num_calls = 0\n",
    "    return inner_fun\n",
    "\n",
    "\n",
    "@count_calls\n",
    "def is_divisible(n, i):\n",
    "    return n % i == 0\n",
    "\n",
    "\n",
    "def find_smallest_factor(n):\n",
    "    # Reset the counter\n",
    "    is_divisible.num_calls = 0\n",
    "\n",
    "    # Check divisibility by 2, 3, 5 and 7\n",
    "    for i in [2, 3, 5, 7]:\n",
    "        if is_divisible(n, i):\n",
    "            print(f\"Divisible by {i}\")\n",
    "            return i\n",
    "\n",
    "    # Start search for factors at i = 11\n",
    "    i = 11\n",
    "\n",
    "    # Sieve using primes 3, 5, 7\n",
    "    primes = [3, 5, 7]\n",
    "\n",
    "    while i < n:\n",
    "        mod_values = [i % p for p in primes]\n",
    "        if all(r != 0 for r in mod_values):\n",
    "            if is_divisible(n, i):\n",
    "                return i\n",
    "        i += 2\n",
    "\n",
    "    # We did not find a factor. n is prime.\n",
    "    return None"
   ]
  },
  {
   "cell_type": "code",
   "execution_count": 3,
   "id": "56b547bf",
   "metadata": {},
   "outputs": [
    {
     "name": "stdout",
     "output_type": "stream",
     "text": [
      "Divisible by 7\n",
      "Number of calls to is_divisible = 4\n"
     ]
    }
   ],
   "source": [
    "p = find_smallest_factor(77)\n",
    "print(f\"Number of calls to is_divisible = {is_divisible.num_calls}\")\n",
    "assert p == 7, f\"Did not find prime factor 7, instead your algorithm finds {p}\"\n",
    "assert (\n",
    "    is_divisible.num_calls <= 5\n",
    "), f\"Your algorithm must find a prime factor for 77 using less than 5 divisibility checks\""
   ]
  },
  {
   "cell_type": "code",
   "execution_count": 4,
   "id": "fde5aca1",
   "metadata": {},
   "outputs": [
    {
     "name": "stdout",
     "output_type": "stream",
     "text": [
      "Found prime factor 37\n",
      "Number of calls to is_divisible = 12\n"
     ]
    }
   ],
   "source": [
    "p = find_smallest_factor(3589)\n",
    "print(f\"Found prime factor {p}\")\n",
    "print(f\"Number of calls to is_divisible = {is_divisible.num_calls}\")\n",
    "assert p == 37, f\"Did not find prime factor 37, instead your algorithm finds {p}\"\n",
    "assert (\n",
    "    is_divisible.num_calls <= 13\n",
    "), f\"Your algorithm must find a prime factor for 3589 with less than 13 divisibility checks\""
   ]
  },
  {
   "cell_type": "code",
   "execution_count": 5,
   "id": "e141bb04",
   "metadata": {},
   "outputs": [
    {
     "name": "stdout",
     "output_type": "stream",
     "text": [
      "Found factor = 7607\n",
      "Number of calls to is_divisible = 1743\n"
     ]
    }
   ],
   "source": [
    "n = 7907 * 7607\n",
    "p = find_smallest_factor(n)\n",
    "print(f\"Found factor = {p}\")\n",
    "print(f\"Number of calls to is_divisible = {is_divisible.num_calls}\")\n",
    "assert p == 7607, f\"Did not find prime factor 7607, instead your algorithm finds {p}\"\n",
    "assert (\n",
    "    is_divisible.num_calls <= 1743\n",
    "), f\"Your algorithm must find a prime factor with <= 1743 divisibility checks\""
   ]
  },
  {
   "cell_type": "code",
   "execution_count": 6,
   "id": "cbec736a",
   "metadata": {},
   "outputs": [],
   "source": [
    "list_of_semiprimes = [\n",
    "    1401,\n",
    "    3748486951520329,\n",
    "    3752606281089349,\n",
    "    3754961171936341,\n",
    "    3756235832941861,\n",
    "    3758054142736489,\n",
    "    3768343025255113,\n",
    "    3770908285338889,\n",
    "    3789270035360209,\n",
    "    3792097195306729,\n",
    "    3804080660868409,\n",
    "    3809734753698301,\n",
    "    3816606928381453,\n",
    "    3818949174736609,\n",
    "    3820870509943561,\n",
    "    3822840857074201,\n",
    "    3852076309133401,\n",
    "    3876127995012697,\n",
    "    3892629672990589,\n",
    "    3910648469842633,\n",
    "    3920999805125773,\n",
    "    3921744925134109,\n",
    "    3924792228588397,\n",
    "    3931145554413457,\n",
    "    3932125632305329,\n",
    "    3935928816760081,\n",
    "    3961247632016713,\n",
    "    3975676605218881,\n",
    "    3982569750752293,\n",
    "    3982848113442193,\n",
    "    3985942367371729,\n",
    "    3986200067461861,\n",
    "    3990055553157829,\n",
    "    3993390558390133,\n",
    "    3997252998788437,\n",
    "    3998135901643693,\n",
    "    4005313130491789,\n",
    "    4024933426550977,\n",
    "    4036354165122421,\n",
    "    4038083373106021,\n",
    "    4053866502851821,\n",
    "    4067306572005253,\n",
    "    4078847544271369,\n",
    "    4091861946912889,\n",
    "    4099243035596617,\n",
    "    4133788979088253,\n",
    "    4134939693320221,\n",
    "    4142398487623213,\n",
    "    4144730958670993,\n",
    "    4148739776756977,\n",
    "    4179773852763409,\n",
    "    4185730146333961,\n",
    "    4190837552528629,\n",
    "    4194890965293781,\n",
    "    4244075651161417,\n",
    "    4254595003500757,\n",
    "    4299385948797673,\n",
    "    4301923741074121,\n",
    "]"
   ]
  },
  {
   "cell_type": "markdown",
   "id": "999b2915",
   "metadata": {
    "lines_to_next_cell": 2
   },
   "source": [
    "## Pollard's Rho Algorithm"
   ]
  },
  {
   "cell_type": "code",
   "execution_count": 7,
   "id": "9a5a78bb",
   "metadata": {},
   "outputs": [],
   "source": [
    "def gcd(m, n):\n",
    "    if m < n:\n",
    "        m, n = n, m\n",
    "    while n > 0:\n",
    "        m, n = n, m % n\n",
    "    return m\n",
    "\n",
    "\n",
    "# Use f to generate pseudo random numbers\n",
    "def f(x, n):\n",
    "    return (x * x + 1) % n"
   ]
  },
  {
   "cell_type": "code",
   "execution_count": 8,
   "id": "0cd752f2",
   "metadata": {},
   "outputs": [],
   "source": [
    "# By default try 100,000 numbers\n",
    "def pseudo_random_gcd_factorization(n, m=100000):\n",
    "    x = 2\n",
    "    for _ in range(m):\n",
    "        d = gcd(x, n)\n",
    "        if d != 1:\n",
    "            return d\n",
    "        x = f(x, n)\n",
    "    return None"
   ]
  },
  {
   "cell_type": "code",
   "execution_count": 9,
   "id": "f63f28fe",
   "metadata": {},
   "outputs": [
    {
     "name": "stdout",
     "output_type": "stream",
     "text": [
      "Failed to factor 1401\n",
      "Failed to factor 3748486951520329\n",
      "Failed to factor 3752606281089349\n",
      "Failed to factor 3754961171936341\n",
      "Failed to factor 3756235832941861\n",
      "Failed to factor 3758054142736489\n",
      "Failed to factor 3768343025255113\n",
      "Failed to factor 3770908285338889\n",
      "Failed to factor 3789270035360209\n",
      "Failed to factor 3792097195306729\n",
      "Failed to factor 3804080660868409\n",
      "Failed to factor 3809734753698301\n",
      "Failed to factor 3816606928381453\n",
      "Failed to factor 3818949174736609\n",
      "Failed to factor 3820870509943561\n",
      "Failed to factor 3822840857074201\n",
      "Failed to factor 3852076309133401\n",
      "Failed to factor 3876127995012697\n",
      "Failed to factor 3892629672990589\n",
      "Failed to factor 3910648469842633\n",
      "Failed to factor 3920999805125773\n",
      "Failed to factor 3921744925134109\n",
      "Failed to factor 3924792228588397\n",
      "Failed to factor 3931145554413457\n",
      "Failed to factor 3932125632305329\n",
      "Failed to factor 3935928816760081\n",
      "Failed to factor 3961247632016713\n",
      "Failed to factor 3975676605218881\n",
      "Failed to factor 3982569750752293\n",
      "Failed to factor 3982848113442193\n",
      "Failed to factor 3985942367371729\n",
      "Failed to factor 3986200067461861\n",
      "Failed to factor 3990055553157829\n",
      "Failed to factor 3993390558390133\n",
      "Failed to factor 3997252998788437\n",
      "0 numbers were factored within 15 seconds\n"
     ]
    }
   ],
   "source": [
    "timeout = 15  # seconds\n",
    "num_factored = 0\n",
    "\n",
    "for n in list_of_semiprimes:\n",
    "    t0 = time.perf_counter()\n",
    "    p = pseudo_random_gcd_factorization(n)\n",
    "    if p is not None:\n",
    "        assert n % p == 0, f\"prime factor {p} is incorrect\"\n",
    "        assert p != 1 and p != n, f\"factor {p} cannot be trivial\"\n",
    "        print(f\"{n} = {p} * {n // p}\")\n",
    "        num_factored += 1\n",
    "    else:\n",
    "        print(f\"Failed to factor {n}\")\n",
    "    t1 = time.perf_counter()\n",
    "    timeout -= t1 - t0\n",
    "    if timeout < 0:\n",
    "        break\n",
    "\n",
    "print(f\"{num_factored} numbers were factored within 15 seconds\")"
   ]
  },
  {
   "cell_type": "code",
   "execution_count": 10,
   "id": "e3e274f6",
   "metadata": {},
   "outputs": [],
   "source": [
    "# Use g to generate a second pseudo random sequence\n",
    "def g(x, n):\n",
    "    return f(f(x, n), n)"
   ]
  },
  {
   "cell_type": "code",
   "execution_count": 11,
   "id": "ccd95992",
   "metadata": {},
   "outputs": [],
   "source": [
    "# By default try 100,000 numbers\n",
    "def pseudo_random_difference_gcd_factorization(n, m=100000):\n",
    "    x, y = 2, 2\n",
    "    for _ in range(m):\n",
    "        x, y = f(x, n), g(y, n)\n",
    "        diff = x - y if x > y else y - x\n",
    "        d = gcd(diff, n)\n",
    "        if d != 1:\n",
    "            return d\n",
    "    return None"
   ]
  },
  {
   "cell_type": "code",
   "execution_count": 12,
   "id": "2df07473",
   "metadata": {},
   "outputs": [
    {
     "name": "stdout",
     "output_type": "stream",
     "text": [
      "1401 = 3 * 467\n",
      "3748486951520329 = 57142403 * 65599043\n",
      "3752606281089349 = 926867 * 4048699847\n",
      "3754961171936341 = 61797647 * 60762203\n",
      "3756235832941861 = 926867 * 4052615783\n",
      "3758054142736489 = 971207 * 3869467727\n",
      "3768343025255113 = 64697219 * 58245827\n",
      "3770908285338889 = 1035107 * 3643013027\n",
      "3789270035360209 = 61557047 * 61557047\n",
      "3792097195306729 = 57807203 * 65599043\n",
      "3804080660868409 = 61797647 * 61557047\n",
      "3809734753698301 = 984563 * 3869467727\n",
      "3816606928381453 = 986339 * 3869467727\n",
      "3818949174736609 = 61797647 * 61797647\n",
      "3820870509943561 = 65599043 * 58245827\n",
      "3822840857074201 = 64697219 * 59088179\n",
      "3852076309133401 = 926867 * 4156018403\n",
      "3876127995012697 = 65599043 * 59088179\n",
      "3892629672990589 = 926867 * 4199771567\n",
      "3910648469842633 = 968459 * 4038011387\n",
      "3920999805125773 = 968459 * 4048699847\n",
      "3921744925134109 = 971207 * 4038011387\n",
      "3924792228588397 = 968459 * 4052615783\n",
      "3931145554413457 = 64697219 * 60762203\n",
      "3932125632305329 = 971207 * 4048699847\n",
      "3935928816760081 = 971207 * 4052615783\n",
      "3961247632016713 = 1023719 * 3869467727\n",
      "3975676605218881 = 984563 * 4038011387\n",
      "3982569750752293 = 64697219 * 61557047\n",
      "3982848113442193 = 986339 * 4038011387\n",
      "3985942367371729 = 65599043 * 60762203\n",
      "3986200067461861 = 984563 * 4048699847\n",
      "3990055553157829 = 984563 * 4052615783\n",
      "3993390558390133 = 986339 * 4048699847\n",
      "3997252998788437 = 986339 * 4052615783\n",
      "3998135901643693 = 64697219 * 61797647\n",
      "4005313130491789 = 1035107 * 3869467727\n",
      "4024933426550977 = 968459 * 4156018403\n",
      "4036354165122421 = 971207 * 4156018403\n",
      "4038083373106021 = 65599043 * 61557047\n",
      "4053866502851821 = 65599043 * 61797647\n",
      "4067306572005253 = 968459 * 4199771567\n",
      "4078847544271369 = 971207 * 4199771567\n",
      "4091861946912889 = 984563 * 4156018403\n",
      "4099243035596617 = 986339 * 4156018403\n",
      "4133788979088253 = 1023719 * 4038011387\n",
      "4134939693320221 = 984563 * 4199771567\n",
      "4142398487623213 = 986339 * 4199771567\n",
      "4144730958670993 = 1023719 * 4048699847\n",
      "4148739776756977 = 1023719 * 4052615783\n",
      "4179773852763409 = 1035107 * 4038011387\n",
      "4185730146333961 = 64697219 * 64697219\n",
      "4190837552528629 = 1035107 * 4048699847\n",
      "4194890965293781 = 1035107 * 4052615783\n",
      "4244075651161417 = 65599043 * 64697219\n",
      "4254595003500757 = 1023719 * 4156018403\n",
      "4299385948797673 = 1023719 * 4199771567\n",
      "4301923741074121 = 1035107 * 4156018403\n",
      "58 numbers were factored within 15 seconds\n"
     ]
    }
   ],
   "source": [
    "timeout = 15  # seconds\n",
    "num_factored = 0\n",
    "\n",
    "for n in list_of_semiprimes:\n",
    "    t0 = time.perf_counter()\n",
    "    p = pseudo_random_difference_gcd_factorization(n)\n",
    "    if p is not None:\n",
    "        assert n % p == 0, f\"prime factor {p} is incorrect\"\n",
    "        assert p != 1 and p != n, f\"factor {p} cannot be trivial\"\n",
    "        print(f\"{n} = {p} * {n // p}\")\n",
    "        num_factored += 1\n",
    "    else:\n",
    "        print(f\"Failed to factor {n}\")\n",
    "    t1 = time.perf_counter()\n",
    "    timeout -= t1 - t0\n",
    "    if timeout < 0:\n",
    "        break\n",
    "\n",
    "print(f\"{num_factored} numbers were factored within 15 seconds\")"
   ]
  },
  {
   "cell_type": "code",
   "execution_count": 13,
   "id": "4e3b29d8",
   "metadata": {},
   "outputs": [],
   "source": [
    "def pollards_rho_factor(n, a=1):\n",
    "    def f(x):\n",
    "        return (x * x + a) % n\n",
    "\n",
    "    x = f(2)\n",
    "    y = f(f(2))\n",
    "\n",
    "    while x != y:\n",
    "        diff = x - y if x > y else y - x\n",
    "        d = gcd(diff, n)\n",
    "        if d != 1:\n",
    "            return d\n",
    "        x = f(x)\n",
    "        y = f(f(y))\n",
    "\n",
    "    print(\"Failed\")\n",
    "    return None"
   ]
  },
  {
   "cell_type": "code",
   "execution_count": 14,
   "id": "59402878",
   "metadata": {},
   "outputs": [
    {
     "name": "stdout",
     "output_type": "stream",
     "text": [
      "1401 = 3 * 467\n",
      "3748486951520329 = 57142403 * 65599043\n",
      "3752606281089349 = 926867 * 4048699847\n",
      "3754961171936341 = 61797647 * 60762203\n",
      "3756235832941861 = 926867 * 4052615783\n",
      "3758054142736489 = 971207 * 3869467727\n",
      "3768343025255113 = 64697219 * 58245827\n",
      "3770908285338889 = 1035107 * 3643013027\n",
      "3789270035360209 = 61557047 * 61557047\n",
      "3792097195306729 = 57807203 * 65599043\n",
      "3804080660868409 = 61797647 * 61557047\n",
      "3809734753698301 = 984563 * 3869467727\n",
      "3816606928381453 = 986339 * 3869467727\n",
      "3818949174736609 = 61797647 * 61797647\n",
      "3820870509943561 = 65599043 * 58245827\n",
      "3822840857074201 = 64697219 * 59088179\n",
      "3852076309133401 = 926867 * 4156018403\n",
      "3876127995012697 = 65599043 * 59088179\n",
      "3892629672990589 = 926867 * 4199771567\n",
      "3910648469842633 = 968459 * 4038011387\n",
      "3920999805125773 = 968459 * 4048699847\n",
      "3921744925134109 = 971207 * 4038011387\n",
      "3924792228588397 = 968459 * 4052615783\n",
      "3931145554413457 = 64697219 * 60762203\n",
      "3932125632305329 = 971207 * 4048699847\n",
      "3935928816760081 = 971207 * 4052615783\n",
      "3961247632016713 = 1023719 * 3869467727\n",
      "3975676605218881 = 984563 * 4038011387\n",
      "3982569750752293 = 64697219 * 61557047\n",
      "3982848113442193 = 986339 * 4038011387\n",
      "3985942367371729 = 65599043 * 60762203\n",
      "3986200067461861 = 984563 * 4048699847\n",
      "3990055553157829 = 984563 * 4052615783\n",
      "3993390558390133 = 986339 * 4048699847\n",
      "3997252998788437 = 986339 * 4052615783\n",
      "3998135901643693 = 64697219 * 61797647\n",
      "4005313130491789 = 1035107 * 3869467727\n",
      "4024933426550977 = 968459 * 4156018403\n",
      "4036354165122421 = 971207 * 4156018403\n",
      "4038083373106021 = 65599043 * 61557047\n",
      "4053866502851821 = 65599043 * 61797647\n",
      "4067306572005253 = 968459 * 4199771567\n",
      "4078847544271369 = 971207 * 4199771567\n",
      "4091861946912889 = 984563 * 4156018403\n",
      "4099243035596617 = 986339 * 4156018403\n",
      "4133788979088253 = 1023719 * 4038011387\n",
      "4134939693320221 = 984563 * 4199771567\n",
      "4142398487623213 = 986339 * 4199771567\n",
      "4144730958670993 = 1023719 * 4048699847\n",
      "4148739776756977 = 1023719 * 4052615783\n",
      "4179773852763409 = 1035107 * 4038011387\n",
      "4185730146333961 = 64697219 * 64697219\n",
      "4190837552528629 = 1035107 * 4048699847\n",
      "4194890965293781 = 1035107 * 4052615783\n",
      "4244075651161417 = 65599043 * 64697219\n",
      "4254595003500757 = 1023719 * 4156018403\n",
      "4299385948797673 = 1023719 * 4199771567\n",
      "4301923741074121 = 1035107 * 4156018403\n",
      "58 numbers were factored within 15 seconds\n"
     ]
    }
   ],
   "source": [
    "timeout = 15  # seconds\n",
    "num_factored = 0\n",
    "\n",
    "for n in list_of_semiprimes:\n",
    "    t0 = time.perf_counter()\n",
    "    p = pollards_rho_factor(n)\n",
    "    if p is not None:\n",
    "        assert n % p == 0, f\"prime factor {p} is incorrect\"\n",
    "        assert p != 1 and p != n, f\"factor {p} cannot be trivial\"\n",
    "        print(f\"{n} = {p} * {n // p}\")\n",
    "        num_factored += 1\n",
    "    else:\n",
    "        print(f\"Failed to factor {n}\")\n",
    "    t1 = time.perf_counter()\n",
    "    timeout -= t1 - t0\n",
    "    if timeout < 0:\n",
    "        break\n",
    "\n",
    "print(f\"{num_factored} numbers were factored within 15 seconds\")"
   ]
  }
 ],
 "metadata": {
  "jupytext": {
   "formats": "ipynb,py:percent"
  },
  "kernelspec": {
   "display_name": "Python 3 (ipykernel)",
   "language": "python",
   "name": "python3"
  },
  "language_info": {
   "codemirror_mode": {
    "name": "ipython",
    "version": 3
   },
   "file_extension": ".py",
   "mimetype": "text/x-python",
   "name": "python",
   "nbconvert_exporter": "python",
   "pygments_lexer": "ipython3",
   "version": "3.12.4"
  }
 },
 "nbformat": 4,
 "nbformat_minor": 5
}
